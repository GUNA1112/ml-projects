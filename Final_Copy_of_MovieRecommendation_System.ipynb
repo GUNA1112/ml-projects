{
  "nbformat": 4,
  "nbformat_minor": 0,
  "metadata": {
    "colab": {
      "provenance": [],
      "include_colab_link": true
    },
    "kernelspec": {
      "name": "python3",
      "display_name": "Python 3"
    },
    "language_info": {
      "name": "python"
    }
  },
  "cells": [
    {
      "cell_type": "markdown",
      "metadata": {
        "id": "view-in-github",
        "colab_type": "text"
      },
      "source": [
        "<a href=\"https://colab.research.google.com/github/GUNA1112/ml-projects/blob/main/Final_Copy_of_MovieRecommendation_System.ipynb\" target=\"_parent\"><img src=\"https://colab.research.google.com/assets/colab-badge.svg\" alt=\"Open In Colab\"/></a>"
      ]
    },
    {
      "cell_type": "code",
      "execution_count": null,
      "metadata": {
        "id": "uNA3sXgKdo9I"
      },
      "outputs": [],
      "source": [
        "from google.colab import files"
      ]
    },
    {
      "cell_type": "code",
      "source": [
        "uploaded = files.upload()"
      ],
      "metadata": {
        "colab": {
          "base_uri": "https://localhost:8080/",
          "height": 73
        },
        "id": "gVJ7owbjd1sv",
        "outputId": "16e1efa2-0cee-41fb-8a21-c9b8c787badf"
      },
      "execution_count": null,
      "outputs": [
        {
          "output_type": "display_data",
          "data": {
            "text/plain": [
              "<IPython.core.display.HTML object>"
            ],
            "text/html": [
              "\n",
              "     <input type=\"file\" id=\"files-e715fd92-5a7a-46cd-a5d0-f3f0c80cd73e\" name=\"files[]\" multiple disabled\n",
              "        style=\"border:none\" />\n",
              "     <output id=\"result-e715fd92-5a7a-46cd-a5d0-f3f0c80cd73e\">\n",
              "      Upload widget is only available when the cell has been executed in the\n",
              "      current browser session. Please rerun this cell to enable.\n",
              "      </output>\n",
              "      <script>// Copyright 2017 Google LLC\n",
              "//\n",
              "// Licensed under the Apache License, Version 2.0 (the \"License\");\n",
              "// you may not use this file except in compliance with the License.\n",
              "// You may obtain a copy of the License at\n",
              "//\n",
              "//      http://www.apache.org/licenses/LICENSE-2.0\n",
              "//\n",
              "// Unless required by applicable law or agreed to in writing, software\n",
              "// distributed under the License is distributed on an \"AS IS\" BASIS,\n",
              "// WITHOUT WARRANTIES OR CONDITIONS OF ANY KIND, either express or implied.\n",
              "// See the License for the specific language governing permissions and\n",
              "// limitations under the License.\n",
              "\n",
              "/**\n",
              " * @fileoverview Helpers for google.colab Python module.\n",
              " */\n",
              "(function(scope) {\n",
              "function span(text, styleAttributes = {}) {\n",
              "  const element = document.createElement('span');\n",
              "  element.textContent = text;\n",
              "  for (const key of Object.keys(styleAttributes)) {\n",
              "    element.style[key] = styleAttributes[key];\n",
              "  }\n",
              "  return element;\n",
              "}\n",
              "\n",
              "// Max number of bytes which will be uploaded at a time.\n",
              "const MAX_PAYLOAD_SIZE = 100 * 1024;\n",
              "\n",
              "function _uploadFiles(inputId, outputId) {\n",
              "  const steps = uploadFilesStep(inputId, outputId);\n",
              "  const outputElement = document.getElementById(outputId);\n",
              "  // Cache steps on the outputElement to make it available for the next call\n",
              "  // to uploadFilesContinue from Python.\n",
              "  outputElement.steps = steps;\n",
              "\n",
              "  return _uploadFilesContinue(outputId);\n",
              "}\n",
              "\n",
              "// This is roughly an async generator (not supported in the browser yet),\n",
              "// where there are multiple asynchronous steps and the Python side is going\n",
              "// to poll for completion of each step.\n",
              "// This uses a Promise to block the python side on completion of each step,\n",
              "// then passes the result of the previous step as the input to the next step.\n",
              "function _uploadFilesContinue(outputId) {\n",
              "  const outputElement = document.getElementById(outputId);\n",
              "  const steps = outputElement.steps;\n",
              "\n",
              "  const next = steps.next(outputElement.lastPromiseValue);\n",
              "  return Promise.resolve(next.value.promise).then((value) => {\n",
              "    // Cache the last promise value to make it available to the next\n",
              "    // step of the generator.\n",
              "    outputElement.lastPromiseValue = value;\n",
              "    return next.value.response;\n",
              "  });\n",
              "}\n",
              "\n",
              "/**\n",
              " * Generator function which is called between each async step of the upload\n",
              " * process.\n",
              " * @param {string} inputId Element ID of the input file picker element.\n",
              " * @param {string} outputId Element ID of the output display.\n",
              " * @return {!Iterable<!Object>} Iterable of next steps.\n",
              " */\n",
              "function* uploadFilesStep(inputId, outputId) {\n",
              "  const inputElement = document.getElementById(inputId);\n",
              "  inputElement.disabled = false;\n",
              "\n",
              "  const outputElement = document.getElementById(outputId);\n",
              "  outputElement.innerHTML = '';\n",
              "\n",
              "  const pickedPromise = new Promise((resolve) => {\n",
              "    inputElement.addEventListener('change', (e) => {\n",
              "      resolve(e.target.files);\n",
              "    });\n",
              "  });\n",
              "\n",
              "  const cancel = document.createElement('button');\n",
              "  inputElement.parentElement.appendChild(cancel);\n",
              "  cancel.textContent = 'Cancel upload';\n",
              "  const cancelPromise = new Promise((resolve) => {\n",
              "    cancel.onclick = () => {\n",
              "      resolve(null);\n",
              "    };\n",
              "  });\n",
              "\n",
              "  // Wait for the user to pick the files.\n",
              "  const files = yield {\n",
              "    promise: Promise.race([pickedPromise, cancelPromise]),\n",
              "    response: {\n",
              "      action: 'starting',\n",
              "    }\n",
              "  };\n",
              "\n",
              "  cancel.remove();\n",
              "\n",
              "  // Disable the input element since further picks are not allowed.\n",
              "  inputElement.disabled = true;\n",
              "\n",
              "  if (!files) {\n",
              "    return {\n",
              "      response: {\n",
              "        action: 'complete',\n",
              "      }\n",
              "    };\n",
              "  }\n",
              "\n",
              "  for (const file of files) {\n",
              "    const li = document.createElement('li');\n",
              "    li.append(span(file.name, {fontWeight: 'bold'}));\n",
              "    li.append(span(\n",
              "        `(${file.type || 'n/a'}) - ${file.size} bytes, ` +\n",
              "        `last modified: ${\n",
              "            file.lastModifiedDate ? file.lastModifiedDate.toLocaleDateString() :\n",
              "                                    'n/a'} - `));\n",
              "    const percent = span('0% done');\n",
              "    li.appendChild(percent);\n",
              "\n",
              "    outputElement.appendChild(li);\n",
              "\n",
              "    const fileDataPromise = new Promise((resolve) => {\n",
              "      const reader = new FileReader();\n",
              "      reader.onload = (e) => {\n",
              "        resolve(e.target.result);\n",
              "      };\n",
              "      reader.readAsArrayBuffer(file);\n",
              "    });\n",
              "    // Wait for the data to be ready.\n",
              "    let fileData = yield {\n",
              "      promise: fileDataPromise,\n",
              "      response: {\n",
              "        action: 'continue',\n",
              "      }\n",
              "    };\n",
              "\n",
              "    // Use a chunked sending to avoid message size limits. See b/62115660.\n",
              "    let position = 0;\n",
              "    do {\n",
              "      const length = Math.min(fileData.byteLength - position, MAX_PAYLOAD_SIZE);\n",
              "      const chunk = new Uint8Array(fileData, position, length);\n",
              "      position += length;\n",
              "\n",
              "      const base64 = btoa(String.fromCharCode.apply(null, chunk));\n",
              "      yield {\n",
              "        response: {\n",
              "          action: 'append',\n",
              "          file: file.name,\n",
              "          data: base64,\n",
              "        },\n",
              "      };\n",
              "\n",
              "      let percentDone = fileData.byteLength === 0 ?\n",
              "          100 :\n",
              "          Math.round((position / fileData.byteLength) * 100);\n",
              "      percent.textContent = `${percentDone}% done`;\n",
              "\n",
              "    } while (position < fileData.byteLength);\n",
              "  }\n",
              "\n",
              "  // All done.\n",
              "  yield {\n",
              "    response: {\n",
              "      action: 'complete',\n",
              "    }\n",
              "  };\n",
              "}\n",
              "\n",
              "scope.google = scope.google || {};\n",
              "scope.google.colab = scope.google.colab || {};\n",
              "scope.google.colab._files = {\n",
              "  _uploadFiles,\n",
              "  _uploadFilesContinue,\n",
              "};\n",
              "})(self);\n",
              "</script> "
            ]
          },
          "metadata": {}
        },
        {
          "output_type": "stream",
          "name": "stdout",
          "text": [
            "Saving movies.csv to movies.csv\n"
          ]
        }
      ]
    },
    {
      "cell_type": "code",
      "source": [
        "import numpy as np\n",
        "import pandas as pd\n",
        "import difflib\n",
        "from sklearn.feature_extraction.text import TfidfVectorizer\n",
        "from sklearn.metrics.pairwise import cosine_similarity"
      ],
      "metadata": {
        "id": "lu-lpHK9mJVt"
      },
      "execution_count": null,
      "outputs": []
    },
    {
      "cell_type": "code",
      "source": [
        "\n",
        "\n",
        "# Data Collection and Preprocessing\n",
        "# Load the dataset\n",
        "movies_data = pd.read_csv(r'/content/movies.csv')\n",
        "\n",
        "# Display the first 5 rows of the dataframe\n",
        "print(movies_data.head())\n",
        "\n",
        "# Check the number of rows and columns in the dataframe\n",
        "print(\"Shape of the dataset:\", movies_data.shape)\n",
        "\n",
        "# Selecting the relevant features for recommendation\n",
        "selected_features = ['genres', 'keywords', 'tagline', 'cast', 'director']\n",
        "\n",
        "# Check for missing values in the selected features\n",
        "print(\"Missing values in each feature:\")\n",
        "print(movies_data[selected_features].isnull().sum())\n",
        "\n",
        "# Replacing null values with empty strings\n",
        "for feature in selected_features:\n",
        "    movies_data[feature] = movies_data[feature].fillna('')\n",
        "\n",
        "# Combining all the selected features into a single string\n",
        "combined_features = movies_data['genres'] + ' ' + movies_data['keywords'] + ' ' + \\\n",
        "                    movies_data['tagline'] + ' ' + movies_data['cast'] + ' ' + \\\n",
        "                    movies_data['director']\n",
        "\n",
        "# Converting text data to feature vectors using TF-IDF\n",
        "vectorizer = TfidfVectorizer()\n",
        "features_vectors = vectorizer.fit_transform(combined_features)\n",
        "\n",
        "# Getting similarity scores using cosine similarity\n",
        "similarity = cosine_similarity(features_vectors)"
      ],
      "metadata": {
        "colab": {
          "base_uri": "https://localhost:8080/"
        },
        "id": "SjhufeDMeSYK",
        "outputId": "d13a4c08-ce51-4a1c-a7db-5002f4b2584d"
      },
      "execution_count": null,
      "outputs": [
        {
          "output_type": "stream",
          "name": "stdout",
          "text": [
            "   index     budget                                    genres  \\\n",
            "0      0  237000000  Action Adventure Fantasy Science Fiction   \n",
            "1      1  300000000                  Adventure Fantasy Action   \n",
            "2      2  245000000                    Action Adventure Crime   \n",
            "3      3  250000000               Action Crime Drama Thriller   \n",
            "4      4  260000000          Action Adventure Science Fiction   \n",
            "\n",
            "                                       homepage      id  \\\n",
            "0                   http://www.avatarmovie.com/   19995   \n",
            "1  http://disney.go.com/disneypictures/pirates/     285   \n",
            "2   http://www.sonypictures.com/movies/spectre/  206647   \n",
            "3            http://www.thedarkknightrises.com/   49026   \n",
            "4          http://movies.disney.com/john-carter   49529   \n",
            "\n",
            "                                            keywords original_language  \\\n",
            "0  culture clash future space war space colony so...                en   \n",
            "1  ocean drug abuse exotic island east india trad...                en   \n",
            "2         spy based on novel secret agent sequel mi6                en   \n",
            "3  dc comics crime fighter terrorist secret ident...                en   \n",
            "4  based on novel mars medallion space travel pri...                en   \n",
            "\n",
            "                             original_title  \\\n",
            "0                                    Avatar   \n",
            "1  Pirates of the Caribbean: At World's End   \n",
            "2                                   Spectre   \n",
            "3                     The Dark Knight Rises   \n",
            "4                               John Carter   \n",
            "\n",
            "                                            overview  popularity  ... runtime  \\\n",
            "0  In the 22nd century, a paraplegic Marine is di...  150.437577  ...   162.0   \n",
            "1  Captain Barbossa, long believed to be dead, ha...  139.082615  ...   169.0   \n",
            "2  A cryptic message from Bond’s past sends him o...  107.376788  ...   148.0   \n",
            "3  Following the death of District Attorney Harve...  112.312950  ...   165.0   \n",
            "4  John Carter is a war-weary, former military ca...   43.926995  ...   132.0   \n",
            "\n",
            "                                    spoken_languages    status  \\\n",
            "0  [{\"iso_639_1\": \"en\", \"name\": \"English\"}, {\"iso...  Released   \n",
            "1           [{\"iso_639_1\": \"en\", \"name\": \"English\"}]  Released   \n",
            "2  [{\"iso_639_1\": \"fr\", \"name\": \"Fran\\u00e7ais\"},...  Released   \n",
            "3           [{\"iso_639_1\": \"en\", \"name\": \"English\"}]  Released   \n",
            "4           [{\"iso_639_1\": \"en\", \"name\": \"English\"}]  Released   \n",
            "\n",
            "                                          tagline  \\\n",
            "0                     Enter the World of Pandora.   \n",
            "1  At the end of the world, the adventure begins.   \n",
            "2                           A Plan No One Escapes   \n",
            "3                                 The Legend Ends   \n",
            "4            Lost in our world, found in another.   \n",
            "\n",
            "                                      title vote_average vote_count  \\\n",
            "0                                    Avatar          7.2      11800   \n",
            "1  Pirates of the Caribbean: At World's End          6.9       4500   \n",
            "2                                   Spectre          6.3       4466   \n",
            "3                     The Dark Knight Rises          7.6       9106   \n",
            "4                               John Carter          6.1       2124   \n",
            "\n",
            "                                                cast  \\\n",
            "0  Sam Worthington Zoe Saldana Sigourney Weaver S...   \n",
            "1  Johnny Depp Orlando Bloom Keira Knightley Stel...   \n",
            "2  Daniel Craig Christoph Waltz L\\u00e9a Seydoux ...   \n",
            "3  Christian Bale Michael Caine Gary Oldman Anne ...   \n",
            "4  Taylor Kitsch Lynn Collins Samantha Morton Wil...   \n",
            "\n",
            "                                                crew           director  \n",
            "0  [{'name': 'Stephen E. Rivkin', 'gender': 0, 'd...      James Cameron  \n",
            "1  [{'name': 'Dariusz Wolski', 'gender': 2, 'depa...     Gore Verbinski  \n",
            "2  [{'name': 'Thomas Newman', 'gender': 2, 'depar...         Sam Mendes  \n",
            "3  [{'name': 'Hans Zimmer', 'gender': 2, 'departm...  Christopher Nolan  \n",
            "4  [{'name': 'Andrew Stanton', 'gender': 2, 'depa...     Andrew Stanton  \n",
            "\n",
            "[5 rows x 24 columns]\n",
            "Shape of the dataset: (4803, 24)\n",
            "Missing values in each feature:\n",
            "genres       28\n",
            "keywords    412\n",
            "tagline     844\n",
            "cast         43\n",
            "director     30\n",
            "dtype: int64\n"
          ]
        }
      ]
    },
    {
      "cell_type": "code",
      "source": [
        "# Getting the movie name from the user\n",
        "# ... (previous code) ...\n",
        "movie_name = input(\"Enter your favourite movie name: \")\n",
        "num_recommendations = int(input(\"Enter the number of recommendations you want: \"))  # Get desired number from user\n",
        "\n",
        "# Creating a list with all the movie names given in the dataset\n",
        "list_of_all_titles = movies_data['title'].tolist()\n",
        "\n",
        "# Finding the closest match for the movie name given by the user\n",
        "find_close_match = difflib.get_close_matches(movie_name, list_of_all_titles, n=3, cutoff=0.6)  # Get 3 close matches with cutoff 0.6\n",
        "\n",
        "# Check if any close match is found\n",
        "if not find_close_match:\n",
        "    suggestions = difflib.get_close_matches(movie_name, list_of_all_titles, n=3, cutoff=0.4)  # Suggest 3 more matches with cutoff 0.4\n",
        "    if suggestions:\n",
        "        print(f\"Movie Not Found. Did you mean {', '.join(suggestions)}?\")\n",
        "    else:\n",
        "        print(\"Movie Not Found. Please check the spelling or try another movie.\")\n",
        "else:\n",
        "    close_match = find_close_match[0]\n",
        "    print(\"Closest match found:\", close_match)\n",
        "\n",
        "    # Finding the index of the movie with the title\n",
        "    index_of_the_movie = movies_data[movies_data.title == close_match]['index'].values[0]\n",
        "\n",
        "    # Getting the list of similar movies\n",
        "    similarity_score = list(enumerate(similarity[index_of_the_movie]))\n",
        "\n",
        "    # Sorting the movies based on their similarity score\n",
        "    sorted_similar_movies = sorted(similarity_score, key=lambda x: x[1], reverse=True)\n",
        "\n",
        "    # Print the name of similar movies based on the index\n",
        "    print(\"Movies suggested for you:\\n\")\n",
        "    for i, movies in enumerate(sorted_similar_movies):\n",
        "      index = movies[0]\n",
        "      title_from_index = movies_data[movies_data.index == index]['title'].values[0]\n",
        "      if i < num_recommendations:  # Use user-specified number\n",
        "        print(f\"{i + 1}. {title_from_index}\")"
      ],
      "metadata": {
        "colab": {
          "base_uri": "https://localhost:8080/"
        },
        "id": "PGyo7rslmh5N",
        "outputId": "cac39d0c-442c-485b-ba84-fcea5a98365e"
      },
      "execution_count": null,
      "outputs": [
        {
          "output_type": "stream",
          "name": "stdout",
          "text": [
            "Enter your favourite movie name: bat man\n",
            "Enter the number of recommendations you want: 5\n",
            "Closest match found: Batman\n",
            "Movies suggested for you:\n",
            "\n",
            "1. Batman\n",
            "2. Batman Returns\n",
            "3. Batman & Robin\n",
            "4. The Dark Knight Rises\n",
            "5. Batman Begins\n"
          ]
        }
      ]
    },
    {
      "cell_type": "code",
      "source": [
        "# prompt: connect to drive\n",
        "\n",
        "from google.colab import drive\n",
        "drive.mount('/content/drive')"
      ],
      "metadata": {
        "colab": {
          "base_uri": "https://localhost:8080/"
        },
        "id": "oaVHAkt9jvCl",
        "outputId": "acc15889-e4f9-4226-9b49-d8ced9c86a74"
      },
      "execution_count": null,
      "outputs": [
        {
          "output_type": "stream",
          "name": "stdout",
          "text": [
            "Mounted at /content/drive\n"
          ]
        }
      ]
    },
    {
      "cell_type": "code",
      "source": [
        "import shutil\n",
        "\n",
        "shutil.copy('/content/movies.csv', '/content/drive/MyDrive/COLAB_DATASET/movies.csv')"
      ],
      "metadata": {
        "colab": {
          "base_uri": "https://localhost:8080/",
          "height": 35
        },
        "id": "2SNTpBYpke8e",
        "outputId": "1b75241b-c7c4-45a7-9628-5eddd0940edf"
      },
      "execution_count": null,
      "outputs": [
        {
          "output_type": "execute_result",
          "data": {
            "text/plain": [
              "'/content/drive/MyDrive/COLAB_DATASET/movies.csv'"
            ],
            "application/vnd.google.colaboratory.intrinsic+json": {
              "type": "string"
            }
          },
          "metadata": {},
          "execution_count": 8
        }
      ]
    },
    {
      "cell_type": "code",
      "source": [],
      "metadata": {
        "id": "U_6HmbN0kpa-"
      },
      "execution_count": null,
      "outputs": []
    }
  ]
}